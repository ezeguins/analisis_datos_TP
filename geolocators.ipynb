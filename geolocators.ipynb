{
 "cells": [
  {
   "cell_type": "code",
   "execution_count": 23,
   "metadata": {},
   "outputs": [],
   "source": [
    "from geopy.geocoders import Nominatim\n",
    "import numpy as np\n",
    "import re\n",
    "geolocator = Nominatim(user_agent='tp')"
   ]
  },
  {
   "cell_type": "code",
   "execution_count": 50,
   "metadata": {},
   "outputs": [],
   "source": [
    "# Latitud y Longitud de la ciudad centrado tomando como referencia el punto medio de Australia\n",
    "def coordinates(city):\n",
    "    # Separación de nombre de ciudad por mayúsculas\n",
    "    if city == 'PearceRAAF': city = 'PearceRaaf'\n",
    "    lista = re.findall('[A-Z][^A-Z]*', city)\n",
    "    ciudad = \"\"\n",
    "    for palabras in lista:\n",
    "        ciudad += str(palabras) + \" \"\n",
    "    #city_sep = separate(city)\n",
    "    ciudad = str(ciudad) + ', Australia'\n",
    "    location = geolocator.geocode(ciudad, timeout=None)\n",
    "    return np.int64(location.latitude+25), np.int64(location.longitude-133)"
   ]
  },
  {
   "cell_type": "code",
   "execution_count": 51,
   "metadata": {},
   "outputs": [
    {
     "data": {
      "text/plain": [
       "(-10, -15)"
      ]
     },
     "execution_count": 51,
     "metadata": {},
     "output_type": "execute_result"
    }
   ],
   "source": [
    "coordinates('Albany')"
   ]
  },
  {
   "cell_type": "code",
   "execution_count": 33,
   "metadata": {},
   "outputs": [],
   "source": [
    "\n"
   ]
  },
  {
   "cell_type": "code",
   "execution_count": null,
   "metadata": {},
   "outputs": [],
   "source": []
  }
 ],
 "metadata": {
  "interpreter": {
   "hash": "c33d53ad9bafa15b4e4ed06471be2976fa3b35495f0065b4cdfb4cf192edc667"
  },
  "kernelspec": {
   "display_name": "Python 3 (ipykernel)",
   "language": "python",
   "name": "python3"
  },
  "language_info": {
   "codemirror_mode": {
    "name": "ipython",
    "version": 3
   },
   "file_extension": ".py",
   "mimetype": "text/x-python",
   "name": "python",
   "nbconvert_exporter": "python",
   "pygments_lexer": "ipython3",
   "version": "3.9.7"
  }
 },
 "nbformat": 4,
 "nbformat_minor": 2
}
