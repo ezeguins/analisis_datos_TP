{
 "cells": [
  {
   "cell_type": "code",
   "execution_count": 1,
   "metadata": {},
   "outputs": [],
   "source": [
    "# Import libraries\n",
    "import numpy as np\n",
    "import cv2\n",
    "import matplotlib.pyplot as plt\n",
    "import seaborn as sns\n",
    "import pandas as pd\n",
    "#import import_ipynb\n",
    "import TP_WeatherAUS as TP\n",
    "import importlib\n",
    "importlib.reload(TP)\n",
    "# Se ignoran los \"FutureWarnings\" molestos\n",
    "import warnings\n",
    "warnings.simplefilter(action='ignore', category=FutureWarning) "
   ]
  },
  {
   "cell_type": "code",
   "execution_count": 3,
   "metadata": {},
   "outputs": [],
   "source": [
    "# Read cvs file and generate copy\n",
    "DATASET_PATH = 'weatherAUS.csv'\n",
    "dataset = pd.read_csv(DATASET_PATH)\n",
    "dataset_=dataset.copy()"
   ]
  },
  {
   "cell_type": "code",
   "execution_count": 28,
   "metadata": {},
   "outputs": [
    {
     "name": "stdout",
     "output_type": "stream",
     "text": [
      "el dataset va entre la fecha 2008-12-1 y la fecha 2017-6-25\n"
     ]
    }
   ],
   "source": [
    "# Observamos si hay fechas faltantes, ya que RainToday no coincide con RainTomorrow (deberían diferenciarse como máximo en 2 valores)\n",
    "\n",
    "if 'Date' in dataset_.columns: dataset_ = dataset_.set_index('Date')\n",
    "dataset_.index = pd.to_datetime(dataset_.index)\n",
    "first_date = str(dataset_.index[0].year) + '-' + str(dataset_.index[0].month) + '-' + str(dataset_.index[0].day) \n",
    "last_date = str(dataset_.index[-1].year) + '-' + str(dataset_.index[-1].month) + '-' + str(dataset_.index[-1].day) \n",
    "print('el dataset va entre la fecha {} y la fecha {}'.format(first_date, last_date))"
   ]
  },
  {
   "cell_type": "code",
   "execution_count": 29,
   "metadata": {},
   "outputs": [
    {
     "name": "stdout",
     "output_type": "stream",
     "text": [
      "entre las fechas 2008-12-01 y 2017-06-24 hay 89 fechas faltantes en el dataset\n",
      "\n",
      " las fechas son: DatetimeIndex(['2011-04-01', '2011-04-02', '2011-04-03', '2011-04-04',\n",
      "               '2011-04-05', '2011-04-06', '2011-04-07', '2011-04-08',\n",
      "               '2011-04-09', '2011-04-10', '2011-04-11', '2011-04-12',\n",
      "               '2011-04-13', '2011-04-14', '2011-04-15', '2011-04-16',\n",
      "               '2011-04-17', '2011-04-18', '2011-04-19', '2011-04-20',\n",
      "               '2011-04-21', '2011-04-22', '2011-04-23', '2011-04-24',\n",
      "               '2011-04-25', '2011-04-26', '2011-04-27', '2011-04-28',\n",
      "               '2011-04-29', '2011-04-30', '2012-12-01', '2012-12-02',\n",
      "               '2012-12-03', '2012-12-04', '2012-12-05', '2012-12-06',\n",
      "               '2012-12-07', '2012-12-08', '2012-12-09', '2012-12-10',\n",
      "               '2012-12-11', '2012-12-12', '2012-12-13', '2012-12-14',\n",
      "               '2012-12-15', '2012-12-16', '2012-12-17', '2012-12-18',\n",
      "               '2012-12-19', '2012-12-20', '2012-12-21', '2012-12-22',\n",
      "               '2012-12-23', '2012-12-24', '2012-12-25', '2012-12-26',\n",
      "               '2012-12-27', '2012-12-28', '2012-12-29', '2012-12-30',\n",
      "               '2012-12-31', '2013-02-01', '2013-02-02', '2013-02-03',\n",
      "               '2013-02-04', '2013-02-05', '2013-02-06', '2013-02-07',\n",
      "               '2013-02-08', '2013-02-09', '2013-02-10', '2013-02-11',\n",
      "               '2013-02-12', '2013-02-13', '2013-02-14', '2013-02-15',\n",
      "               '2013-02-16', '2013-02-17', '2013-02-18', '2013-02-19',\n",
      "               '2013-02-20', '2013-02-21', '2013-02-22', '2013-02-23',\n",
      "               '2013-02-24', '2013-02-25', '2013-02-26', '2013-02-27',\n",
      "               '2013-02-28'],\n",
      "              dtype='datetime64[ns]', freq=None)\n"
     ]
    }
   ],
   "source": [
    "fechas_faltantes = pd.date_range(start=first_date, end=last_date).difference(dataset_.index)\n",
    "print('entre las fechas 2008-12-01 y 2017-06-24 hay {} fechas faltantes en el dataset'.format(len(fechas_faltantes)))\n",
    "print('\\n las fechas son:', fechas_faltantes)"
   ]
  },
  {
   "cell_type": "code",
   "execution_count": 35,
   "metadata": {},
   "outputs": [
    {
     "name": "stdout",
     "output_type": "stream",
     "text": [
      "cantidad de fechas faltantes en los años: \n",
      " 2012    31\n",
      "2011    30\n",
      "2013    28\n",
      "dtype: int64\n",
      "cantidad de fechas faltantes en los meses: \n",
      " 12    31\n",
      "4     30\n",
      "2     28\n",
      "dtype: int64\n",
      "cantidad de fechas faltantes en los días: \n",
      " 1     3\n",
      "2     3\n",
      "28    3\n",
      "27    3\n",
      "26    3\n",
      "25    3\n",
      "24    3\n",
      "23    3\n",
      "22    3\n",
      "21    3\n",
      "20    3\n",
      "19    3\n",
      "18    3\n",
      "17    3\n",
      "16    3\n",
      "15    3\n",
      "14    3\n",
      "13    3\n",
      "12    3\n",
      "11    3\n",
      "10    3\n",
      "9     3\n",
      "8     3\n",
      "7     3\n",
      "6     3\n",
      "5     3\n",
      "4     3\n",
      "3     3\n",
      "29    2\n",
      "30    2\n",
      "31    1\n",
      "dtype: int64\n"
     ]
    }
   ],
   "source": [
    "# Contamos cuantas fechas faltantes hay en cada año, mes y día para ver algún patrón\n",
    "fechas_faltantes_A = fechas_faltantes.year.value_counts()\n",
    "fechas_faltantes_M = fechas_faltantes.month.value_counts()\n",
    "fechas_faltantes_D = fechas_faltantes.day.value_counts()\n",
    "print('cantidad de fechas faltantes en los años: \\n', fechas_faltantes_A)\n",
    "print('cantidad de fechas faltantes en los meses: \\n',fechas_faltantes_M)\n",
    "print('cantidad de fechas faltantes en los días: \\n',fechas_faltantes_D)"
   ]
  },
  {
   "cell_type": "code",
   "execution_count": null,
   "metadata": {},
   "outputs": [],
   "source": []
  }
 ],
 "metadata": {
  "interpreter": {
   "hash": "c33d53ad9bafa15b4e4ed06471be2976fa3b35495f0065b4cdfb4cf192edc667"
  },
  "kernelspec": {
   "display_name": "Python 3.9.7 ('vision1')",
   "language": "python",
   "name": "python3"
  },
  "language_info": {
   "codemirror_mode": {
    "name": "ipython",
    "version": 3
   },
   "file_extension": ".py",
   "mimetype": "text/x-python",
   "name": "python",
   "nbconvert_exporter": "python",
   "pygments_lexer": "ipython3",
   "version": "3.9.7"
  },
  "orig_nbformat": 4
 },
 "nbformat": 4,
 "nbformat_minor": 2
}
