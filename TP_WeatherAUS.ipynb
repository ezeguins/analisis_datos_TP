{
 "cells": [
  {
   "cell_type": "code",
   "execution_count": 9,
   "id": "df7590e5",
   "metadata": {},
   "outputs": [],
   "source": [
    "# Import libraries\n",
    "import numpy as np\n",
    "import cv2\n",
    "import matplotlib.pyplot as plt\n",
    "import seaborn as sns\n",
    "import pandas as pd\n",
    "# Se ignoran los \"FutureWarnings\" molestos\n",
    "import warnings\n",
    "warnings.simplefilter(action='ignore', category=FutureWarning) "
   ]
  },
  {
   "cell_type": "code",
   "execution_count": 16,
   "id": "f08ab9be",
   "metadata": {},
   "outputs": [],
   "source": [
    "# se calcula porcentaje de valores null por columna y se dropean las columnas con porcentaje de nan superior a 10%\n",
    "#aca hay que verificar que cada columna dropeada no contiene valores excluyentes con algun otro dato -->estos pueden ser recuperados\n",
    "#hace falta agregar un modulo que hace siguiente calculo: si Cloud9am y Cloud3pm son distintos de nan y Sunshine es nan, se reemplaza o se complementa\n",
    "#se puede quitar las ultimas dos columnas donde se expresa literalmente si llovió, alla tenemos la columna de rainfall con milimitros.\n",
    "# # pressure y evaporation no parecen tener sustitutos\n",
    "def drop_nans(ds):\n",
    "   per=[]\n",
    "   for column in ds:\n",
    "      tot=ds[column].isnull().sum()\n",
    "      per=tot/len(ds[column])*100\n",
    "      if per > 10:\n",
    "         print(column,\"porcentaje de Null\",per,\"dropea\")\n",
    "         ds = ds.drop(column, 1)\n",
    "      else:\n",
    "         print(column,\"cantidad de Null\",tot,\"porcentaje de Null\",per, \"se conserva\")\n",
    "   return ds"
   ]
  },
  {
   "cell_type": "markdown",
   "id": "25b39de8",
   "metadata": {},
   "source": [
    "##en caso de conservar las ultimas dos columnas, se puede reemplazar los nan usando knn \n",
    "#sobre columna de rainfall y posteriormente usar el siguiente comando\n",
    "#dataset.replace({\"Yes\": 1, \"No\": 0})\n",
    "#print(\"columna RainToday contiene: \\n\",pd.value_counts(dataset.RainToday),\"columna RainTomorrow contiene: \\n\",pd.value_counts(dataset.RainTomorrow))"
   ]
  },
  {
   "cell_type": "code",
   "execution_count": 21,
   "id": "65f505b6",
   "metadata": {},
   "outputs": [],
   "source": [
    "# Codificación de la categoría DATE en dos columnas: Year y MonthDay que es un número con decimales entre 1 y 13\n",
    "\n",
    "def date2columns(ds):\n",
    "    if 'Date' in ds.columns:\n",
    "        date = ds['Date'].str.split(pat='-', expand = True)\n",
    "        date.shape\n",
    "        year = np.uint16(date[0])\n",
    "        month_day = np.float32(date[1]) + np.divide(np.float32(date[2]),32)\n",
    "        ds = ds.drop('Date', 1)\n",
    "        ds.insert(0, 'Year', year)\n",
    "        ds.insert(1, 'MonthDay', month_day)\n",
    "    return ds"
   ]
  },
  {
   "cell_type": "code",
   "execution_count": 19,
   "id": "731939ac",
   "metadata": {},
   "outputs": [],
   "source": [
    "# Codificación de la categoría 'Location'\n",
    "def geoloc(ds):\n",
    "    import geolocators\n",
    "    import importlib\n",
    "    importlib.reload(geolocators)\n",
    "\n",
    "    # Se agregan las columnas nuevas\n",
    "    if 'Latitude' in ds.columns:\n",
    "        print ('la columna latitude ya existe')\n",
    "    else:\n",
    "        ds.insert(2, 'Latitude', np.empty(len(ds['Location'])))\n",
    "    if 'Longitude' in ds.columns:\n",
    "        print ('la columna longitude ya existe')\n",
    "    else:\n",
    "        ds.insert(3, 'Longitude', np.empty(len(ds['Location'])))\n",
    "\n",
    "    print('El dataset tiene {} localidades distintas'.format(ds['Location'].unique().shape[0]))\n",
    "    for loc in ds['Location'].unique():\n",
    "        print(geolocators.coordinates(loc), loc)\n",
    "        ds.Latitude.replace()\n",
    "        ds['Latitude'] = ds['Latitude'].where(ds['Location'] != loc, geolocators.coordinates(loc)[0])\n",
    "        ds['Longitude'] = ds['Longitude'].where(ds['Location'] != loc, geolocators.coordinates(loc)[1])\n",
    "    if 'Location' in ds.columns: ds = ds.drop('Location', 1)\n",
    "    return ds \n",
    "\n",
    "\n"
   ]
  },
  {
   "cell_type": "code",
   "execution_count": 20,
   "id": "142d25b9",
   "metadata": {},
   "outputs": [],
   "source": [
    "#definimos encoder y normalizamos los datos (menos la fecha), generamos otra tabla:\n",
    "def normal(ds):\n",
    "   import sklearn.preprocessing as preprocessing\n",
    "   from sklearn.preprocessing import StandardScaler\n",
    "   ss = StandardScaler()\n",
    "   enc = preprocessing.OrdinalEncoder()\n",
    "   dsscal_=ds.copy()\n",
    "   k=0\n",
    "\n",
    "   for column in ds:\n",
    "      if np.dtype(np.dtype(ds[column])) == \"object\" and column not in [\"Year\",\"MonthDay\"]:\n",
    "         dsscal_.insert(k, f'{column}_enc_scal', ss.fit_transform(enc.fit_transform(ds[column].values.reshape(-1, 1))))\n",
    "         dsscal_ = dsscal_.drop(column, 1)\n",
    "\n",
    "      elif column not in [\"Year\",\"MonthDay\"]:\n",
    "         dsscal_.insert(k, f'{column}_scal', ss.fit_transform(ds[column].values.reshape(-1, 1)))\n",
    "         dsscal_ = dsscal_.drop(column, 1)\n",
    "\n",
    "      k=k+1\n",
    "   return ds \n",
    "       \n"
   ]
  },
  {
   "cell_type": "code",
   "execution_count": null,
   "id": "8990b187",
   "metadata": {},
   "outputs": [],
   "source": []
  }
 ],
 "metadata": {
  "interpreter": {
   "hash": "c97934db89806fc3f4afece3cb356f5c0fc1be04e99aec550e2fd6e9d9218234"
  },
  "kernelspec": {
   "display_name": "Python 3 (ipykernel)",
   "language": "python",
   "name": "python3"
  },
  "language_info": {
   "codemirror_mode": {
    "name": "ipython",
    "version": 3
   },
   "file_extension": ".py",
   "mimetype": "text/x-python",
   "name": "python",
   "nbconvert_exporter": "python",
   "pygments_lexer": "ipython3",
   "version": "3.9.7"
  }
 },
 "nbformat": 4,
 "nbformat_minor": 5
}
